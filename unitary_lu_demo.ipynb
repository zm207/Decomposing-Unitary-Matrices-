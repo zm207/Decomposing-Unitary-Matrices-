{
 "cells": [
  {
   "cell_type": "markdown",
   "id": "cc938729",
   "metadata": {},
   "source": [
    "# Unitary Matrix LU Decomposition Demo\n",
    "This notebook shows how to:\n",
    "1. Generate random unitary matrices\n",
    "2. Check unitarity\n",
    "3. Perform LU decomposition with SciPy\n",
    "4. Verify the reconstruction error"
   ]
  },
  {
   "cell_type": "code",
   "execution_count": 8,
   "id": "a9dcadc8",
   "metadata": {},
   "outputs": [],
   "source": [
    "import numpy as np\n",
    "import scipy.linalg as la\n",
    "\n",
    "def is_unitary(U, tol=1e-10):\n",
    "    U = np.asarray(U, dtype=complex)\n",
    "    n, m = U.shape\n",
    "    if n != m:\n",
    "        return False, np.inf\n",
    "    I = np.eye(n, dtype=complex)\n",
    "    err = la.norm(U.conj().T @ U - I, ord='fro')\n",
    "    return err <= tol, err\n",
    "\n",
    "def random_unitary(n, seed=None):\n",
    "    rng = np.random.default_rng(seed)\n",
    "    Z = rng.normal(size=(n, n)) + 1j * rng.normal(size=(n, n))\n",
    "    Q, R = la.qr(Z)\n",
    "    d = np.diag(R)\n",
    "    ph = d / np.abs(d)\n",
    "    return Q * ph\n",
    "\n",
    "def lu_decompose_and_verify(A):\n",
    "    P, L, U = la.lu(A)\n",
    "    recon_err = la.norm(P @ A - L @ U, ord='fro')\n",
    "    return P, L, U, recon_err\n"
   ]
  },
  {
   "cell_type": "markdown",
   "id": "b77f8717",
   "metadata": {},
   "source": [
    "## ✅ Verification and Sanity Checks\n",
    "\n",
    "This cell:\n",
    "1. **Checks that `U` is unitary** by computing ‖UᴴU − I‖.\n",
    "2. **Recomputes the LU decomposition** for the current `U` and verifies the identity  \n",
    "   $$U = P \\cdot L \\cdot U_{\\text{fac}}$$  \n",
    "   using `np.allclose` and a relative error metric.\n",
    "3. **Compares with the alternative form** `P @ U = L @ Ufac` (for completeness).\n",
    "4. **Performs a QR decomposition** and verifies that `Q` is orthonormal and `U ≈ Q@R`.\n",
    "\n",
    "These checks ensure the decomposition is **mathematically correct** and demonstrate numerical stability.\n"
   ]
  },
  {
   "cell_type": "code",
   "execution_count": 9,
   "id": "ba18ef68",
   "metadata": {},
   "outputs": [
    {
     "name": "stdout",
     "output_type": "stream",
     "text": [
      "=== Verification Cell (recomputes LU for current U) ===\n",
      "Unitarity check ||U^H U - I||_F = 9.82e-16\n",
      "Check A = P @ L @ U ?  -> True | relative error: 4.85e-17\n",
      "Check P @ A = L @ U ? -> False | relative error: 6.12e-01\n",
      "QR recon error ||U - Q@R||_F = 8.10e-16\n",
      "Q orthogonality error ||Q^H Q - I||_F = 1.12e-15\n"
     ]
    }
   ],
   "source": [
    "import numpy as np\n",
    "import scipy.linalg as la\n",
    "\n",
    "print(\"=== Verification Cell (recomputes LU for current U) ===\")\n",
    "\n",
    "# 0) sanity: U should be unitary\n",
    "unit_err = np.linalg.norm(U.conj().T @ U - np.eye(U.shape[0]), 'fro')\n",
    "print(f\"Unitarity check ||U^H U - I||_F = {unit_err:.2e}\")\n",
    "\n",
    "# 1) recompute LU *from the current U*\n",
    "P, L, Ufac = la.lu(U)\n",
    "\n",
    "# 2) Check SciPy's common convention: U ≈ P @ L @ Ufac\n",
    "lhs = U\n",
    "rhs = P @ L @ Ufac\n",
    "ok_plu = np.allclose(lhs, rhs)\n",
    "rel_err_plu = np.linalg.norm(lhs - rhs, 'fro') / (np.linalg.norm(lhs, 'fro') + np.linalg.norm(rhs, 'fro'))\n",
    "print(\"Check A = P @ L @ U ?  ->\", ok_plu, \"| relative error:\", f\"{rel_err_plu:.2e}\")\n",
    "\n",
    "# 3) Also check the alternative: P @ U ≈ L @ Ufac\n",
    "lhs2 = P @ U\n",
    "rhs2 = L @ Ufac\n",
    "ok_pu_lu = np.allclose(lhs2, rhs2)\n",
    "rel_err_pu_lu = np.linalg.norm(lhs2 - rhs2, 'fro') / (np.linalg.norm(lhs2, 'fro') + np.linalg.norm(rhs2, 'fro'))\n",
    "print(\"Check P @ A = L @ U ? ->\", ok_pu_lu, \"| relative error:\", f\"{rel_err_pu_lu:.2e}\")\n",
    "\n",
    "# 4) QR sanity (for comparison)\n",
    "Q, R = la.qr(U)\n",
    "qr_recon_err = np.linalg.norm(U - Q @ R, 'fro')\n",
    "q_ortho_err = np.linalg.norm(Q.conj().T @ Q - np.eye(Q.shape[0]), 'fro')\n",
    "print(f\"QR recon error ||U - Q@R||_F = {qr_recon_err:.2e}\")\n",
    "print(f\"Q orthogonality error ||Q^H Q - I||_F = {q_ortho_err:.2e}\")\n"
   ]
  },
  {
   "cell_type": "code",
   "execution_count": 10,
   "id": "6ca86db0",
   "metadata": {},
   "outputs": [
    {
     "name": "stdout",
     "output_type": "stream",
     "text": [
      "============================================================\n",
      "=== Demo for n=2 ===\n",
      "Input is unitary? True (||U^H U - I||_F = 7.20e-16)\n",
      "LU reconstruction error ||P@U - L@Ufac||_F = 5.55e-17\n",
      "\n",
      "U (input unitary):\n",
      " [[ 0.144-0.922j -0.059+0.355j]\n",
      " [ 0.355+0.06j   0.918+0.165j]]\n",
      "\n",
      "P (permutation):\n",
      " [[1. 0.]\n",
      " [0. 1.]]\n",
      "\n",
      "L (unit lower-triangular):\n",
      " [[ 1.   +0.j     0.   +0.j   ]\n",
      " [-0.005+0.385j  1.   +0.j   ]]\n",
      "\n",
      "U (upper-triangular factor):\n",
      " [[ 0.144-0.922j -0.059+0.355j]\n",
      " [ 0.   +0.j     1.055+0.189j]]\n",
      "============================================================\n",
      "=== Demo for n=4 ===\n",
      "Input is unitary? True (||U^H U - I||_F = 9.82e-16)\n",
      "LU reconstruction error ||P@U - L@Ufac||_F = 2.45e+00\n"
     ]
    }
   ],
   "source": [
    "for n, seed in [(2, 42), (4, 123)]:\n",
    "    print('='*60)\n",
    "    print(f'=== Demo for n={n} ===')\n",
    "    U = random_unitary(n, seed=seed)\n",
    "    ok, unitary_err = is_unitary(U)\n",
    "    print(f'Input is unitary? {ok} (||U^H U - I||_F = {unitary_err:.2e})')\n",
    "    P, L, Ufac, recon_err = lu_decompose_and_verify(U)\n",
    "    print(f'LU reconstruction error ||P@U - L@Ufac||_F = {recon_err:.2e}')\n",
    "    if n <= 2:\n",
    "        np.set_printoptions(precision=3, suppress=True)\n",
    "        print('\\nU (input unitary):\\n', U)\n",
    "        print('\\nP (permutation):\\n', P)\n",
    "        print('\\nL (unit lower-triangular):\\n', L)\n",
    "        print('\\nU (upper-triangular factor):\\n', Ufac)\n"
   ]
  }
 ],
 "metadata": {
  "kernelspec": {
   "display_name": "Python 3",
   "language": "python",
   "name": "python3"
  },
  "language_info": {
   "codemirror_mode": {
    "name": "ipython",
    "version": 3
   },
   "file_extension": ".py",
   "mimetype": "text/x-python",
   "name": "python",
   "nbconvert_exporter": "python",
   "pygments_lexer": "ipython3",
   "version": "3.9.6"
  }
 },
 "nbformat": 4,
 "nbformat_minor": 5
}
